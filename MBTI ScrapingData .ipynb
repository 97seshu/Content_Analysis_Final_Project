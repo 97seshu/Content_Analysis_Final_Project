{
 "cells": [
  {
   "cell_type": "code",
   "execution_count": 7,
   "metadata": {},
   "outputs": [
    {
     "name": "stdout",
     "output_type": "stream",
     "text": [
      "Collecting snscrape\n",
      "  Downloading snscrape-0.4.3.20220106-py3-none-any.whl (59 kB)\n",
      "\u001b[K     |████████████████████████████████| 59 kB 3.7 MB/s eta 0:00:011\n",
      "\u001b[?25hRequirement already satisfied: beautifulsoup4 in /Library/Frameworks/Python.framework/Versions/3.9/lib/python3.9/site-packages (from snscrape) (4.9.3)\n",
      "Collecting lxml\n",
      "  Downloading lxml-4.8.0-cp39-cp39-macosx_10_15_x86_64.whl (4.6 MB)\n",
      "\u001b[K     |████████████████████████████████| 4.6 MB 5.4 MB/s eta 0:00:01\n",
      "\u001b[?25hRequirement already satisfied: filelock in /Library/Frameworks/Python.framework/Versions/3.9/lib/python3.9/site-packages (from snscrape) (3.0.12)\n",
      "Requirement already satisfied: requests[socks] in /Library/Frameworks/Python.framework/Versions/3.9/lib/python3.9/site-packages (from snscrape) (2.25.0)\n",
      "Requirement already satisfied: soupsieve>1.2 in /Library/Frameworks/Python.framework/Versions/3.9/lib/python3.9/site-packages (from beautifulsoup4->snscrape) (2.1)\n",
      "Requirement already satisfied: urllib3<1.27,>=1.21.1 in /Library/Frameworks/Python.framework/Versions/3.9/lib/python3.9/site-packages (from requests[socks]->snscrape) (1.26.2)\n",
      "Requirement already satisfied: certifi>=2017.4.17 in /Library/Frameworks/Python.framework/Versions/3.9/lib/python3.9/site-packages (from requests[socks]->snscrape) (2020.11.8)\n",
      "Requirement already satisfied: idna<3,>=2.5 in /Library/Frameworks/Python.framework/Versions/3.9/lib/python3.9/site-packages (from requests[socks]->snscrape) (2.10)\n",
      "Requirement already satisfied: chardet<4,>=3.0.2 in /Library/Frameworks/Python.framework/Versions/3.9/lib/python3.9/site-packages (from requests[socks]->snscrape) (3.0.4)\n",
      "Requirement already satisfied: PySocks!=1.5.7,>=1.5.6 in /Library/Frameworks/Python.framework/Versions/3.9/lib/python3.9/site-packages (from requests[socks]->snscrape) (1.7.1)\n",
      "Installing collected packages: lxml, snscrape\n",
      "Successfully installed lxml-4.8.0 snscrape-0.4.3.20220106\n",
      "\u001b[33mWARNING: You are using pip version 21.1.3; however, version 22.0.3 is available.\n",
      "You should consider upgrading via the '/Library/Frameworks/Python.framework/Versions/3.9/bin/python3.9 -m pip install --upgrade pip' command.\u001b[0m\n"
     ]
    }
   ],
   "source": [
    "!pip3 install snscrape"
   ]
  },
  {
   "cell_type": "markdown",
   "metadata": {},
   "source": [
    "## Scraping from Twitter "
   ]
  },
  {
   "cell_type": "code",
   "execution_count": 1,
   "metadata": {},
   "outputs": [],
   "source": [
    "import snscrape.modules.twitter as sntwitter"
   ]
  },
  {
   "cell_type": "code",
   "execution_count": 2,
   "metadata": {},
   "outputs": [],
   "source": [
    "import pandas as pd"
   ]
  },
  {
   "cell_type": "code",
   "execution_count": 7,
   "metadata": {},
   "outputs": [],
   "source": [
    "YEARS = ['2017','2018','2019','2020','2021']\n",
    "\n",
    "#https://medium.com/dataseries/how-to-scrape-millions-of-tweets-using-snscrape-195ee3594721\n",
    "#https://betterprogramming.pub/how-to-scrape-tweets-with-snscrape-90124ed006af"
   ]
  },
  {
   "cell_type": "code",
   "execution_count": 3,
   "metadata": {},
   "outputs": [],
   "source": [
    "KEY = 'ISTJ'"
   ]
  },
  {
   "cell_type": "code",
   "execution_count": null,
   "metadata": {},
   "outputs": [],
   "source": [
    "#INFJ, ISFJ, ENFJ, INFP, INTJ, ENFP "
   ]
  },
  {
   "cell_type": "code",
   "execution_count": 9,
   "metadata": {},
   "outputs": [],
   "source": [
    "types = ['ISTP','ISFP','INFP','INTP','ESTP','ESTJ','ESFP','ESFJ','ENTP','ENTJ']"
   ]
  },
  {
   "cell_type": "code",
   "execution_count": 4,
   "metadata": {},
   "outputs": [],
   "source": [
    "def yearly(keywords, year):\n",
    "    tweets = []\n",
    "    identifier = '{} since:{}-01-01 until:{}-12-31 lang:en'.format(keywords,year,year)\n",
    "    # Using TwitterSearchScraper to scrape data and append tweets to list\n",
    "    for i,tweet in enumerate(sntwitter.TwitterSearchScraper(identifier).get_items()):\n",
    "        if i>5000:\n",
    "            break\n",
    "        tweets.append([tweet.date, tweet.id, tweet.content, tweet.user.username])\n",
    "    \n",
    "    return tweets "
   ]
  },
  {
   "cell_type": "code",
   "execution_count": 5,
   "metadata": {},
   "outputs": [],
   "source": [
    "def mbti_type(keywords):\n",
    "    full = {}\n",
    "    for year in YEARS:\n",
    "        full[year] = yearly(keywords,year)\n",
    "    \n",
    "    return full"
   ]
  },
  {
   "cell_type": "code",
   "execution_count": 10,
   "metadata": {},
   "outputs": [],
   "source": [
    "for KEY in types:\n",
    "    for year in YEARS:\n",
    "        data = mbti_type(KEY)\n",
    "        df = pd.DataFrame(data[year], columns=['Datetime', 'Tweet Id', 'Text', 'Username'])\n",
    "        path = KEY + '_'+ year + '.csv'\n",
    "        df.to_csv(path)"
   ]
  },
  {
   "cell_type": "code",
   "execution_count": 48,
   "metadata": {},
   "outputs": [
    {
     "data": {
      "text/html": [
       "<div>\n",
       "<style scoped>\n",
       "    .dataframe tbody tr th:only-of-type {\n",
       "        vertical-align: middle;\n",
       "    }\n",
       "\n",
       "    .dataframe tbody tr th {\n",
       "        vertical-align: top;\n",
       "    }\n",
       "\n",
       "    .dataframe thead th {\n",
       "        text-align: right;\n",
       "    }\n",
       "</style>\n",
       "<table border=\"1\" class=\"dataframe\">\n",
       "  <thead>\n",
       "    <tr style=\"text-align: right;\">\n",
       "      <th></th>\n",
       "      <th>Datetime</th>\n",
       "      <th>Tweet Id</th>\n",
       "      <th>Text</th>\n",
       "      <th>Username</th>\n",
       "    </tr>\n",
       "  </thead>\n",
       "  <tbody>\n",
       "    <tr>\n",
       "      <th>0</th>\n",
       "      <td>2017-05-30 21:30:26+00:00</td>\n",
       "      <td>869667343126933508</td>\n",
       "      <td>Visionary #STRIVINGSTYLE. #INFJ #MBTI Wonderfu...</td>\n",
       "      <td>AnneDranitsaris</td>\n",
       "    </tr>\n",
       "    <tr>\n",
       "      <th>1</th>\n",
       "      <td>2017-05-30 21:30:26+00:00</td>\n",
       "      <td>869667342757875712</td>\n",
       "      <td>Visionary #STRIVINGSTYLE. #INFJ #MBTI Wonderfu...</td>\n",
       "      <td>AnneDranitsari1</td>\n",
       "    </tr>\n",
       "    <tr>\n",
       "      <th>2</th>\n",
       "      <td>2017-05-30 17:39:58+00:00</td>\n",
       "      <td>869609344001863680</td>\n",
       "      <td>HT: 164CM / 5'4\"\\nWT: 45KG / 99LBS\\nMBTI: INFJ...</td>\n",
       "      <td>krystardust</td>\n",
       "    </tr>\n",
       "    <tr>\n",
       "      <th>3</th>\n",
       "      <td>2017-05-30 17:37:39+00:00</td>\n",
       "      <td>869608757654831105</td>\n",
       "      <td>Sometimes I really want to say 'you must be an...</td>\n",
       "      <td>4shade17</td>\n",
       "    </tr>\n",
       "    <tr>\n",
       "      <th>4</th>\n",
       "      <td>2017-05-30 13:50:25+00:00</td>\n",
       "      <td>869551572656705536</td>\n",
       "      <td>10. my mbti type is an infj which basically me...</td>\n",
       "      <td>intensenatalie</td>\n",
       "    </tr>\n",
       "    <tr>\n",
       "      <th>...</th>\n",
       "      <td>...</td>\n",
       "      <td>...</td>\n",
       "      <td>...</td>\n",
       "      <td>...</td>\n",
       "    </tr>\n",
       "    <tr>\n",
       "      <th>496</th>\n",
       "      <td>2017-02-01 23:06:04+00:00</td>\n",
       "      <td>826929638773575682</td>\n",
       "      <td>New tumblr post: \"Personality Type and Politic...</td>\n",
       "      <td>InfiniteINFJ</td>\n",
       "    </tr>\n",
       "    <tr>\n",
       "      <th>497</th>\n",
       "      <td>2017-02-01 23:02:31+00:00</td>\n",
       "      <td>826928745336311808</td>\n",
       "      <td>Understanding the #Introvert Writer: https://t...</td>\n",
       "      <td>losapala</td>\n",
       "    </tr>\n",
       "    <tr>\n",
       "      <th>498</th>\n",
       "      <td>2017-02-01 21:59:03+00:00</td>\n",
       "      <td>826912774605402115</td>\n",
       "      <td>Is this really too much to ask for in a partne...</td>\n",
       "      <td>Im_INFJ</td>\n",
       "    </tr>\n",
       "    <tr>\n",
       "      <th>499</th>\n",
       "      <td>2017-02-01 18:06:11+00:00</td>\n",
       "      <td>826854171076853760</td>\n",
       "      <td>#mbti Breloom is an infj</td>\n",
       "      <td>u_ecora</td>\n",
       "    </tr>\n",
       "    <tr>\n",
       "      <th>500</th>\n",
       "      <td>2017-02-01 17:04:12+00:00</td>\n",
       "      <td>826838575094304773</td>\n",
       "      <td>10 Amazing Performers Who Happen to be Introve...</td>\n",
       "      <td>iNtuitive_Music</td>\n",
       "    </tr>\n",
       "  </tbody>\n",
       "</table>\n",
       "<p>501 rows × 4 columns</p>\n",
       "</div>"
      ],
      "text/plain": [
       "                     Datetime            Tweet Id  \\\n",
       "0   2017-05-30 21:30:26+00:00  869667343126933508   \n",
       "1   2017-05-30 21:30:26+00:00  869667342757875712   \n",
       "2   2017-05-30 17:39:58+00:00  869609344001863680   \n",
       "3   2017-05-30 17:37:39+00:00  869608757654831105   \n",
       "4   2017-05-30 13:50:25+00:00  869551572656705536   \n",
       "..                        ...                 ...   \n",
       "496 2017-02-01 23:06:04+00:00  826929638773575682   \n",
       "497 2017-02-01 23:02:31+00:00  826928745336311808   \n",
       "498 2017-02-01 21:59:03+00:00  826912774605402115   \n",
       "499 2017-02-01 18:06:11+00:00  826854171076853760   \n",
       "500 2017-02-01 17:04:12+00:00  826838575094304773   \n",
       "\n",
       "                                                  Text         Username  \n",
       "0    Visionary #STRIVINGSTYLE. #INFJ #MBTI Wonderfu...  AnneDranitsaris  \n",
       "1    Visionary #STRIVINGSTYLE. #INFJ #MBTI Wonderfu...  AnneDranitsari1  \n",
       "2    HT: 164CM / 5'4\"\\nWT: 45KG / 99LBS\\nMBTI: INFJ...      krystardust  \n",
       "3    Sometimes I really want to say 'you must be an...         4shade17  \n",
       "4    10. my mbti type is an infj which basically me...   intensenatalie  \n",
       "..                                                 ...              ...  \n",
       "496  New tumblr post: \"Personality Type and Politic...     InfiniteINFJ  \n",
       "497  Understanding the #Introvert Writer: https://t...         losapala  \n",
       "498  Is this really too much to ask for in a partne...          Im_INFJ  \n",
       "499                           #mbti Breloom is an infj          u_ecora  \n",
       "500  10 Amazing Performers Who Happen to be Introve...  iNtuitive_Music  \n",
       "\n",
       "[501 rows x 4 columns]"
      ]
     },
     "execution_count": 48,
     "metadata": {},
     "output_type": "execute_result"
    }
   ],
   "source": [
    "pd.DataFrame(type_['2017'], columns=['Datetime', 'Tweet Id', 'Text', 'Username'])"
   ]
  },
  {
   "cell_type": "code",
   "execution_count": 307,
   "metadata": {},
   "outputs": [],
   "source": [
    "import os\n",
    "arr = os.listdir()"
   ]
  },
  {
   "cell_type": "code",
   "execution_count": 314,
   "metadata": {},
   "outputs": [
    {
     "name": "stdout",
     "output_type": "stream",
     "text": [
      "INTJ_2017.csv\n",
      "INTJ_2021.csv\n",
      "INTJ_2020.csv\n",
      "INTJ_2018.csv\n",
      "INTJ_2019.csv\n"
     ]
    }
   ],
   "source": [
    "for file in arr:\n",
    "    if \"INTJ\" in file:\n",
    "        print(file)"
   ]
  },
  {
   "cell_type": "code",
   "execution_count": 9,
   "metadata": {},
   "outputs": [],
   "source": [
    "df1 = pd.read_csv(\"INFJ_2017.csv\")\n",
    "df2 = pd.read_csv(\"INFJ_2018.csv\")\n",
    "df3 = pd.read_csv(\"INFJ_2019.csv\")\n",
    "df4 = pd.read_csv(\"INFJ_2020.csv\")\n",
    "df5 = pd.read_csv(\"INFJ_2021.csv\")"
   ]
  },
  {
   "cell_type": "code",
   "execution_count": 13,
   "metadata": {},
   "outputs": [],
   "source": [
    "df1 = pd.read_csv(\"ISFJ_2017.csv\")\n",
    "df2 = pd.read_csv(\"ISFJ_2018.csv\")\n",
    "df3 = pd.read_csv(\"ISFJ_2019.csv\")\n",
    "df4 = pd.read_csv(\"ISFJ_2020.csv\")\n",
    "df5 = pd.read_csv(\"ISFJ_2021.csv\")"
   ]
  },
  {
   "cell_type": "code",
   "execution_count": 19,
   "metadata": {},
   "outputs": [],
   "source": [
    "df1 = pd.read_csv(\"INFP_2017.csv\")\n",
    "df2 = pd.read_csv(\"INFP_2018.csv\")\n",
    "df3 = pd.read_csv(\"INFP_2019.csv\")\n",
    "df4 = pd.read_csv(\"INFP_2020.csv\")\n",
    "df5 = pd.read_csv(\"INFP_2021.csv\")"
   ]
  },
  {
   "cell_type": "code",
   "execution_count": 20,
   "metadata": {},
   "outputs": [],
   "source": [
    "df1 = pd.read_csv(\"INTP_2017.csv\")\n",
    "df2 = pd.read_csv(\"INTP_2018.csv\")\n",
    "df3 = pd.read_csv(\"INTP_2019.csv\")\n",
    "df4 = pd.read_csv(\"INTP_2020.csv\")\n",
    "df5 = pd.read_csv(\"INTP_2021.csv\")"
   ]
  },
  {
   "cell_type": "code",
   "execution_count": 315,
   "metadata": {},
   "outputs": [],
   "source": [
    "df1 = pd.read_csv(\"INTJ_2017.csv\")\n",
    "df2 = pd.read_csv(\"INTJ_2018.csv\")\n",
    "df3 = pd.read_csv(\"INTJ_2019.csv\")\n",
    "df4 = pd.read_csv(\"INTJ_2020.csv\")\n",
    "df5 = pd.read_csv(\"INTJ_2021.csv\")"
   ]
  },
  {
   "cell_type": "code",
   "execution_count": 14,
   "metadata": {},
   "outputs": [],
   "source": [
    "df1 = pd.read_csv(\"ISTJ_2017.csv\")\n",
    "df2 = pd.read_csv(\"ISTJ_2018.csv\")\n",
    "df3 = pd.read_csv(\"ISTJ_2019.csv\")\n",
    "df4 = pd.read_csv(\"ISTJ_2020.csv\")\n",
    "df5 = pd.read_csv(\"ISTJ_2021.csv\")"
   ]
  },
  {
   "cell_type": "code",
   "execution_count": 16,
   "metadata": {},
   "outputs": [],
   "source": [
    "df1 = pd.read_csv(\"ISTP_2017.csv\")\n",
    "df2 = pd.read_csv(\"ISTP_2018.csv\")\n",
    "df3 = pd.read_csv(\"ISTP_2019.csv\")\n",
    "df4 = pd.read_csv(\"ISTP_2020.csv\")\n",
    "df5 = pd.read_csv(\"ISTP_2021.csv\")"
   ]
  },
  {
   "cell_type": "code",
   "execution_count": 18,
   "metadata": {},
   "outputs": [],
   "source": [
    "df1 = pd.read_csv(\"ISFP_2017.csv\")\n",
    "df2 = pd.read_csv(\"ISFP_2018.csv\")\n",
    "df3 = pd.read_csv(\"ISFP_2019.csv\")\n",
    "df4 = pd.read_csv(\"ISFP_2020.csv\")\n",
    "df5 = pd.read_csv(\"ISFP_2021.csv\")"
   ]
  },
  {
   "cell_type": "code",
   "execution_count": 16,
   "metadata": {},
   "outputs": [],
   "source": [
    "df1 = pd.read_csv(\"ENFJ_2017.csv\")\n",
    "df2 = pd.read_csv(\"ENFJ_2018.csv\")\n",
    "df3 = pd.read_csv(\"ENFJ_2019.csv\")\n",
    "df4 = pd.read_csv(\"ENFJ_2020.csv\")\n",
    "df5 = pd.read_csv(\"ENFJ_2021.csv\")"
   ]
  },
  {
   "cell_type": "code",
   "execution_count": 28,
   "metadata": {},
   "outputs": [],
   "source": [
    "df1 = pd.read_csv(\"ENTJ_2017.csv\")\n",
    "df2 = pd.read_csv(\"ENTJ_2018.csv\")\n",
    "df3 = pd.read_csv(\"ENTJ_2019.csv\")\n",
    "df4 = pd.read_csv(\"ENTJ_2020.csv\")\n",
    "df5 = pd.read_csv(\"ENTJ_2021.csv\")"
   ]
  },
  {
   "cell_type": "code",
   "execution_count": 24,
   "metadata": {},
   "outputs": [],
   "source": [
    "df1 = pd.read_csv(\"ESFJ_2017.csv\")\n",
    "df2 = pd.read_csv(\"ESFJ_2018.csv\")\n",
    "df3 = pd.read_csv(\"ESFJ_2019.csv\")\n",
    "df4 = pd.read_csv(\"ESFJ_2020.csv\")\n",
    "df5 = pd.read_csv(\"ESFJ_2021.csv\")"
   ]
  },
  {
   "cell_type": "code",
   "execution_count": 30,
   "metadata": {},
   "outputs": [],
   "source": [
    "df1 = pd.read_csv(\"ESTJ_2017.csv\")\n",
    "df2 = pd.read_csv(\"ESTJ_2018.csv\")\n",
    "df3 = pd.read_csv(\"ESTJ_2019.csv\")\n",
    "df4 = pd.read_csv(\"ESTJ_2020.csv\")\n",
    "df5 = pd.read_csv(\"ESTJ_2021.csv\")"
   ]
  },
  {
   "cell_type": "code",
   "execution_count": 26,
   "metadata": {},
   "outputs": [],
   "source": [
    "df1 = pd.read_csv(\"ESFP_2017.csv\")\n",
    "df2 = pd.read_csv(\"ESFP_2018.csv\")\n",
    "df3 = pd.read_csv(\"ESFP_2019.csv\")\n",
    "df4 = pd.read_csv(\"ESFP_2020.csv\")\n",
    "df5 = pd.read_csv(\"ESFP_2021.csv\")"
   ]
  },
  {
   "cell_type": "code",
   "execution_count": 310,
   "metadata": {},
   "outputs": [],
   "source": [
    "df1 = pd.read_csv(\"ENFP_2017.csv\")\n",
    "df2 = pd.read_csv(\"ENFP_2018.csv\")\n",
    "df3 = pd.read_csv(\"ENFP_2019.csv\")\n",
    "df4 = pd.read_csv(\"ENFP_2020.csv\")\n",
    "df5 = pd.read_csv(\"ENFP_2021.csv\")"
   ]
  },
  {
   "cell_type": "code",
   "execution_count": 11,
   "metadata": {},
   "outputs": [],
   "source": [
    "df1 = pd.read_csv(\"ESTP_2017.csv\")\n",
    "df2 = pd.read_csv(\"ESTP_2018.csv\")\n",
    "df3 = pd.read_csv(\"ESTP_2019.csv\")\n",
    "df4 = pd.read_csv(\"ESTP_2020.csv\")\n",
    "df5 = pd.read_csv(\"ESTP_2021.csv\")"
   ]
  },
  {
   "cell_type": "code",
   "execution_count": 22,
   "metadata": {},
   "outputs": [],
   "source": [
    "df1 = pd.read_csv(\"ENTP_2017.csv\")\n",
    "df2 = pd.read_csv(\"ENTP_2018.csv\")\n",
    "df3 = pd.read_csv(\"ENTP_2019.csv\")\n",
    "df4 = pd.read_csv(\"ENTP_2020.csv\")\n",
    "df5 = pd.read_csv(\"ENTP_2021.csv\")"
   ]
  },
  {
   "cell_type": "code",
   "execution_count": 11,
   "metadata": {},
   "outputs": [],
   "source": [
    "INFJ_All_Tweets = pd.concat([df1,df2,df3,df4,df5], axis = 0)"
   ]
  },
  {
   "cell_type": "code",
   "execution_count": 21,
   "metadata": {},
   "outputs": [],
   "source": [
    "INFJ_All_Tweets.to_csv(\"INFJ_All_Tweets.csv\")"
   ]
  },
  {
   "cell_type": "code",
   "execution_count": 14,
   "metadata": {},
   "outputs": [],
   "source": [
    "ISFJ_All_Tweets = pd.concat([df1,df2,df3,df4,df5], axis = 0)"
   ]
  },
  {
   "cell_type": "code",
   "execution_count": 22,
   "metadata": {},
   "outputs": [],
   "source": [
    "ISFJ_All_Tweets.to_csv(\"ISFJ_All_Tweets.csv\")"
   ]
  },
  {
   "cell_type": "code",
   "execution_count": 17,
   "metadata": {},
   "outputs": [],
   "source": [
    "ENFJ_All_Tweets = pd.concat([df1,df2,df3,df4,df5], axis = 0)"
   ]
  },
  {
   "cell_type": "code",
   "execution_count": 23,
   "metadata": {},
   "outputs": [],
   "source": [
    "ENFJ_All_Tweets.to_csv(\"ENFJ_All_Tweets.csv\")"
   ]
  },
  {
   "cell_type": "code",
   "execution_count": 20,
   "metadata": {},
   "outputs": [],
   "source": [
    "INFP_All_Tweets = pd.concat([df1,df2,df3,df4,df5], axis = 0)"
   ]
  },
  {
   "cell_type": "code",
   "execution_count": 24,
   "metadata": {},
   "outputs": [],
   "source": [
    "INFP_All_Tweets.to_csv(\"INFP_All_Tweets.csv\")"
   ]
  },
  {
   "cell_type": "code",
   "execution_count": 311,
   "metadata": {},
   "outputs": [],
   "source": [
    "ENFP_All_Tweets = pd.concat([df1,df2,df3,df4,df5], axis = 0)"
   ]
  },
  {
   "cell_type": "code",
   "execution_count": 313,
   "metadata": {},
   "outputs": [],
   "source": [
    "ENFP_All_Tweets.to_csv(\"ENFP_All_Tweets.csv\")"
   ]
  },
  {
   "cell_type": "code",
   "execution_count": 316,
   "metadata": {},
   "outputs": [],
   "source": [
    "INTJ_All_Tweets = pd.concat([df1,df2,df3,df4,df5], axis = 0)"
   ]
  },
  {
   "cell_type": "code",
   "execution_count": 317,
   "metadata": {},
   "outputs": [],
   "source": [
    "INTJ_All_Tweets.to_csv(\"INTJ_All_Tweets.csv\")"
   ]
  },
  {
   "cell_type": "code",
   "execution_count": 12,
   "metadata": {},
   "outputs": [],
   "source": [
    "ESTP_All_Tweets = pd.concat([df1,df2,df3,df4,df5], axis = 0)"
   ]
  },
  {
   "cell_type": "code",
   "execution_count": 13,
   "metadata": {},
   "outputs": [],
   "source": [
    "ESTP_All_Tweets.to_csv(\"ESTP_All_Tweets.csv\")"
   ]
  },
  {
   "cell_type": "code",
   "execution_count": 15,
   "metadata": {},
   "outputs": [],
   "source": [
    "ISTJ_All_Tweets = pd.concat([df1,df2,df3,df4,df5], axis = 0)\n",
    "\n",
    "ISTJ_All_Tweets.to_csv(\"ISTJ_All_Tweets.csv\")"
   ]
  },
  {
   "cell_type": "code",
   "execution_count": 17,
   "metadata": {},
   "outputs": [],
   "source": [
    "ISTP_All_Tweets = pd.concat([df1,df2,df3,df4,df5], axis = 0)\n",
    "\n",
    "ISTP_All_Tweets.to_csv(\"ISTP_All_Tweets.csv\")"
   ]
  },
  {
   "cell_type": "code",
   "execution_count": 19,
   "metadata": {},
   "outputs": [],
   "source": [
    "ISFP_All_Tweets = pd.concat([df1,df2,df3,df4,df5], axis = 0)\n",
    "\n",
    "ISFP_All_Tweets.to_csv(\"ISFP_All_Tweets.csv\")"
   ]
  },
  {
   "cell_type": "code",
   "execution_count": 21,
   "metadata": {},
   "outputs": [],
   "source": [
    "INTP_All_Tweets = pd.concat([df1,df2,df3,df4,df5], axis = 0)\n",
    "\n",
    "INTP_All_Tweets.to_csv(\"INTP_All_Tweets.csv\")"
   ]
  },
  {
   "cell_type": "code",
   "execution_count": 23,
   "metadata": {},
   "outputs": [],
   "source": [
    "ENTP_All_Tweets = pd.concat([df1,df2,df3,df4,df5], axis = 0)\n",
    "\n",
    "ENTP_All_Tweets.to_csv(\"ENTP_All_Tweets.csv\")"
   ]
  },
  {
   "cell_type": "code",
   "execution_count": 25,
   "metadata": {},
   "outputs": [],
   "source": [
    "ESFJ_All_Tweets = pd.concat([df1,df2,df3,df4,df5], axis = 0)\n",
    "\n",
    "ESFJ_All_Tweets.to_csv(\"ESFJ_All_Tweets.csv\")"
   ]
  },
  {
   "cell_type": "code",
   "execution_count": 29,
   "metadata": {},
   "outputs": [],
   "source": [
    "ENTJ_All_Tweets = pd.concat([df1,df2,df3,df4,df5], axis = 0)\n",
    "\n",
    "ENTJ_All_Tweets.to_csv(\"ENTJ_All_Tweets.csv\")"
   ]
  },
  {
   "cell_type": "code",
   "execution_count": 27,
   "metadata": {},
   "outputs": [],
   "source": [
    "ESFP_All_Tweets = pd.concat([df1,df2,df3,df4,df5], axis = 0)\n",
    "\n",
    "ESFP_All_Tweets.to_csv(\"ESFP_All_Tweets.csv\")"
   ]
  },
  {
   "cell_type": "code",
   "execution_count": 31,
   "metadata": {},
   "outputs": [],
   "source": [
    "ESTJ_All_Tweets = pd.concat([df1,df2,df3,df4,df5], axis = 0)\n",
    "\n",
    "ESTJ_All_Tweets.to_csv(\"ESTJ_All_Tweets.csv\")"
   ]
  },
  {
   "cell_type": "markdown",
   "metadata": {},
   "source": [
    "## Scraping from Verywell Mind\n",
    "https://www.verywellmind.com/\n",
    "\n",
    "About: https://www.verywellmind.com/about-us-5184564"
   ]
  },
  {
   "cell_type": "code",
   "execution_count": 154,
   "metadata": {},
   "outputs": [],
   "source": [
    "import requests\n",
    "from bs4 import BeautifulSoup"
   ]
  },
  {
   "cell_type": "code",
   "execution_count": 29,
   "metadata": {},
   "outputs": [],
   "source": [
    "URL = \"https://www.verywellmind.com/the-myers-briggs-type-indicator-2795583\"\n",
    "page = requests.get(URL)\n",
    "\n",
    "soup = BeautifulSoup(page.content, \"html.parser\")"
   ]
  },
  {
   "cell_type": "code",
   "execution_count": 34,
   "metadata": {},
   "outputs": [],
   "source": [
    "results = soup.find(id=\"mntl-sc-block_1-0-45\")"
   ]
  },
  {
   "cell_type": "code",
   "execution_count": 78,
   "metadata": {},
   "outputs": [],
   "source": [
    "results = results.find_all(\"li\")"
   ]
  },
  {
   "cell_type": "code",
   "execution_count": 82,
   "metadata": {},
   "outputs": [],
   "source": [
    "webs = {}\n",
    "for i in results:\n",
    "    webs[i.text] = i.a['href']"
   ]
  },
  {
   "cell_type": "code",
   "execution_count": 83,
   "metadata": {},
   "outputs": [
    {
     "data": {
      "text/plain": [
       "{'ISTJ - The Inspector': 'https://www.verywellmind.com/istj-introversion-sensing-thinking-judgment-2795992',\n",
       " 'ISTP - The Crafter': 'https://www.verywellmind.com/istp-introverted-sensing-thinking-perceiving-2795993',\n",
       " 'ISFJ - The Protector': 'https://www.verywellmind.com/isfj-introverted-sensing-feeling-judging-2795990',\n",
       " 'ISFP - The Artist': 'https://www.verywellmind.com/isfp-introverted-sensing-feeling-perceiving-2795991',\n",
       " 'INFJ - The Advocate': 'https://www.verywellmind.com/infj-introverted-intuitive-feeling-judging-2795978',\n",
       " 'INFP - The Mediator': 'https://www.verywellmind.com/infp-a-profile-of-the-idealist-personality-type-2795987',\n",
       " 'INTJ - The Architect': 'https://www.verywellmind.com/intj-introverted-intuitive-thinking-judging-2795988',\n",
       " 'INTP - The Thinker': 'https://www.verywellmind.com/intp-introverted-intuitive-thinking-perceiving-2795989',\n",
       " 'ESTP - The Persuader': 'https://www.verywellmind.com/estp-extraverted-sensing-thinking-perceiving-2795986',\n",
       " 'ESTJ - The Director': 'https://www.verywellmind.com/estj-extraverted-sensing-thinking-judging-2795985',\n",
       " 'ESFP - The Performer': 'https://www.verywellmind.com/esfp-extraverted-sensing-feeling-perceiving-2795984',\n",
       " 'ESFJ - The Caregiver': 'https://www.verywellmind.com/esfj-extraverted-sensing-feeling-judging-2795983',\n",
       " 'ENFP - The Champion': 'https://www.verywellmind.com/enfp-an-overview-of-the-champion-personality-type-2795980',\n",
       " 'ENFJ - The Giver': 'https://www.verywellmind.com/enfj-extraverted-intuitive-feeling-judging-2795979',\n",
       " 'ENTP - The Debater': 'https://www.verywellmind.com/the-entp-personality-type-and-characteristics-2795982',\n",
       " 'ENTJ - The Commander': 'https://www.verywellmind.com/entj-personality-type-2795981'}"
      ]
     },
     "execution_count": 83,
     "metadata": {},
     "output_type": "execute_result"
    }
   ],
   "source": [
    "webs"
   ]
  },
  {
   "cell_type": "code",
   "execution_count": 97,
   "metadata": {},
   "outputs": [
    {
     "name": "stdout",
     "output_type": "stream",
     "text": [
      "ISTJ\n",
      "ISTP\n",
      "ISFJ\n",
      "ISFP\n",
      "INFJ\n",
      "INFP\n",
      "INTJ\n",
      "INTP\n",
      "ESTP\n",
      "ESTJ\n",
      "ESFP\n",
      "ESFJ\n",
      "ENFP\n",
      "ENFJ\n",
      "ENTP\n",
      "ENTJ\n"
     ]
    }
   ],
   "source": [
    "for name, link in webs.items():\n",
    "    print(name[:4])"
   ]
  },
  {
   "cell_type": "code",
   "execution_count": 148,
   "metadata": {},
   "outputs": [],
   "source": [
    "ALL_texts = {}\n",
    "\n",
    "for name, link in webs.items():\n",
    "    \n",
    "    texts = ''\n",
    "    page = requests.get(link)\n",
    "    soup = BeautifulSoup(page.content, \"html.parser\")\n",
    "    results = soup.find_all('p')\n",
    "    \n",
    "    for row in results[2: (len(results) - 10)]:\n",
    "        texts += row.text\n",
    "    \n",
    "    ALL_texts[name[:4]] = texts"
   ]
  },
  {
   "cell_type": "code",
   "execution_count": 150,
   "metadata": {},
   "outputs": [],
   "source": [
    "df = pd.DataFrame({'Type': ALL_texts.keys(),\n",
    "                   'Text': ALL_texts.values()})"
   ]
  },
  {
   "cell_type": "code",
   "execution_count": 151,
   "metadata": {
    "scrolled": false
   },
   "outputs": [
    {
     "data": {
      "text/html": [
       "<div>\n",
       "<style scoped>\n",
       "    .dataframe tbody tr th:only-of-type {\n",
       "        vertical-align: middle;\n",
       "    }\n",
       "\n",
       "    .dataframe tbody tr th {\n",
       "        vertical-align: top;\n",
       "    }\n",
       "\n",
       "    .dataframe thead th {\n",
       "        text-align: right;\n",
       "    }\n",
       "</style>\n",
       "<table border=\"1\" class=\"dataframe\">\n",
       "  <thead>\n",
       "    <tr style=\"text-align: right;\">\n",
       "      <th></th>\n",
       "      <th>Type</th>\n",
       "      <th>Text</th>\n",
       "    </tr>\n",
       "  </thead>\n",
       "  <tbody>\n",
       "    <tr>\n",
       "      <th>0</th>\n",
       "      <td>ISTJ</td>\n",
       "      <td>\\nISTJ (introversion, sensing, thinking, judgm...</td>\n",
       "    </tr>\n",
       "    <tr>\n",
       "      <th>1</th>\n",
       "      <td>ISTP</td>\n",
       "      <td>\\nISTP (introverted, sensing, thinking, percei...</td>\n",
       "    </tr>\n",
       "    <tr>\n",
       "      <th>2</th>\n",
       "      <td>ISFJ</td>\n",
       "      <td>\\nISFJ is one of the 16 personality types iden...</td>\n",
       "    </tr>\n",
       "    <tr>\n",
       "      <th>3</th>\n",
       "      <td>ISFP</td>\n",
       "      <td>\\nISFP is a four-letter code representing one ...</td>\n",
       "    </tr>\n",
       "    <tr>\n",
       "      <th>4</th>\n",
       "      <td>INFJ</td>\n",
       "      <td>\\nINFJ is one of the 16 personality types iden...</td>\n",
       "    </tr>\n",
       "    <tr>\n",
       "      <th>5</th>\n",
       "      <td>INFP</td>\n",
       "      <td>Verywell / JR Bee\\nINFPs also have strong inte...</td>\n",
       "    </tr>\n",
       "    <tr>\n",
       "      <th>6</th>\n",
       "      <td>INTJ</td>\n",
       "      <td>\\nINTJ (introverted, intuitive, thinking, and ...</td>\n",
       "    </tr>\n",
       "    <tr>\n",
       "      <th>7</th>\n",
       "      <td>INTP</td>\n",
       "      <td>Verywell / JR Bee\\nAccording to psychologist D...</td>\n",
       "    </tr>\n",
       "    <tr>\n",
       "      <th>8</th>\n",
       "      <td>ESTP</td>\n",
       "      <td>\\nPeople with this personality type are logica...</td>\n",
       "    </tr>\n",
       "    <tr>\n",
       "      <th>9</th>\n",
       "      <td>ESTJ</td>\n",
       "      <td>\\nESTJ is one of the 16 personality types iden...</td>\n",
       "    </tr>\n",
       "    <tr>\n",
       "      <th>10</th>\n",
       "      <td>ESFP</td>\n",
       "      <td>\\nESFP (extraverted, sensing, feeling, perceiv...</td>\n",
       "    </tr>\n",
       "    <tr>\n",
       "      <th>11</th>\n",
       "      <td>ESFJ</td>\n",
       "      <td>\\nESFJ, also known as \"The Caregiver\" or \"The ...</td>\n",
       "    </tr>\n",
       "    <tr>\n",
       "      <th>12</th>\n",
       "      <td>ENFP</td>\n",
       "      <td>\\nThe ENFP personality type is one of the 16 d...</td>\n",
       "    </tr>\n",
       "    <tr>\n",
       "      <th>13</th>\n",
       "      <td>ENFJ</td>\n",
       "      <td>\\nENFJ, also known as the giver or protagonist...</td>\n",
       "    </tr>\n",
       "    <tr>\n",
       "      <th>14</th>\n",
       "      <td>ENTP</td>\n",
       "      <td>\\nENTP is one of the 16 different personality ...</td>\n",
       "    </tr>\n",
       "    <tr>\n",
       "      <th>15</th>\n",
       "      <td>ENTJ</td>\n",
       "      <td>\\nThe acronym ENTJ represents one of the 16 pe...</td>\n",
       "    </tr>\n",
       "  </tbody>\n",
       "</table>\n",
       "</div>"
      ],
      "text/plain": [
       "    Type                                               Text\n",
       "0   ISTJ  \\nISTJ (introversion, sensing, thinking, judgm...\n",
       "1   ISTP  \\nISTP (introverted, sensing, thinking, percei...\n",
       "2   ISFJ  \\nISFJ is one of the 16 personality types iden...\n",
       "3   ISFP  \\nISFP is a four-letter code representing one ...\n",
       "4   INFJ  \\nINFJ is one of the 16 personality types iden...\n",
       "5   INFP  Verywell / JR Bee\\nINFPs also have strong inte...\n",
       "6   INTJ  \\nINTJ (introverted, intuitive, thinking, and ...\n",
       "7   INTP  Verywell / JR Bee\\nAccording to psychologist D...\n",
       "8   ESTP  \\nPeople with this personality type are logica...\n",
       "9   ESTJ  \\nESTJ is one of the 16 personality types iden...\n",
       "10  ESFP  \\nESFP (extraverted, sensing, feeling, perceiv...\n",
       "11  ESFJ  \\nESFJ, also known as \"The Caregiver\" or \"The ...\n",
       "12  ENFP  \\nThe ENFP personality type is one of the 16 d...\n",
       "13  ENFJ  \\nENFJ, also known as the giver or protagonist...\n",
       "14  ENTP  \\nENTP is one of the 16 different personality ...\n",
       "15  ENTJ  \\nThe acronym ENTJ represents one of the 16 pe..."
      ]
     },
     "execution_count": 151,
     "metadata": {},
     "output_type": "execute_result"
    }
   ],
   "source": [
    "df"
   ]
  },
  {
   "cell_type": "code",
   "execution_count": 153,
   "metadata": {},
   "outputs": [],
   "source": [
    "df.to_csv(\"Verywell.csv\")"
   ]
  },
  {
   "cell_type": "markdown",
   "metadata": {},
   "source": [
    "## Scraping from 16 Personalities "
   ]
  },
  {
   "cell_type": "code",
   "execution_count": 263,
   "metadata": {},
   "outputs": [],
   "source": [
    "types = [\"ISTJ\",\"ISTP\",\"ISFJ\",\"ISFP\",\n",
    "        \"INFJ\",\"INFP\",\"INTJ\",\"INTP\",\n",
    "        \"ESTP\",\"ESTJ\",\"ESFP\",\"ESFJ\",\n",
    "        \"ENFP\",\"ENFJ\",\"ENTP\",\"ENTJ\"]"
   ]
  },
  {
   "cell_type": "code",
   "execution_count": 283,
   "metadata": {},
   "outputs": [],
   "source": [
    "keys = ['personality','strengths-and-weaknesses','relationships-dating',\n",
    "'friends','parents','careers','conclusion']"
   ]
  },
  {
   "cell_type": "code",
   "execution_count": null,
   "metadata": {},
   "outputs": [],
   "source": [
    "web = \"https://www.16personalities.com/{}-{}\".format"
   ]
  },
  {
   "cell_type": "code",
   "execution_count": 284,
   "metadata": {
    "scrolled": true
   },
   "outputs": [
    {
     "name": "stdout",
     "output_type": "stream",
     "text": [
      "ISTJ\n",
      "https://www.16personalities.com/ISTJ-personality\n",
      "https://www.16personalities.com/ISTJ-strengths-and-weaknesses\n",
      "https://www.16personalities.com/ISTJ-relationships-dating\n",
      "https://www.16personalities.com/ISTJ-friends\n",
      "https://www.16personalities.com/ISTJ-parents\n",
      "https://www.16personalities.com/ISTJ-careers\n",
      "https://www.16personalities.com/ISTJ-conclusion\n",
      "ISTP\n",
      "https://www.16personalities.com/ISTP-personality\n",
      "https://www.16personalities.com/ISTP-strengths-and-weaknesses\n",
      "https://www.16personalities.com/ISTP-relationships-dating\n",
      "https://www.16personalities.com/ISTP-friends\n",
      "https://www.16personalities.com/ISTP-parents\n",
      "https://www.16personalities.com/ISTP-careers\n",
      "https://www.16personalities.com/ISTP-conclusion\n",
      "ISFJ\n",
      "https://www.16personalities.com/ISFJ-personality\n",
      "https://www.16personalities.com/ISFJ-strengths-and-weaknesses\n",
      "https://www.16personalities.com/ISFJ-relationships-dating\n",
      "https://www.16personalities.com/ISFJ-friends\n",
      "https://www.16personalities.com/ISFJ-parents\n",
      "https://www.16personalities.com/ISFJ-careers\n",
      "https://www.16personalities.com/ISFJ-conclusion\n",
      "ISFP\n",
      "https://www.16personalities.com/ISFP-personality\n",
      "https://www.16personalities.com/ISFP-strengths-and-weaknesses\n",
      "https://www.16personalities.com/ISFP-relationships-dating\n",
      "https://www.16personalities.com/ISFP-friends\n",
      "https://www.16personalities.com/ISFP-parents\n",
      "https://www.16personalities.com/ISFP-careers\n",
      "https://www.16personalities.com/ISFP-conclusion\n",
      "INFJ\n",
      "https://www.16personalities.com/INFJ-personality\n",
      "https://www.16personalities.com/INFJ-strengths-and-weaknesses\n",
      "https://www.16personalities.com/INFJ-relationships-dating\n",
      "https://www.16personalities.com/INFJ-friends\n",
      "https://www.16personalities.com/INFJ-parents\n",
      "https://www.16personalities.com/INFJ-careers\n",
      "https://www.16personalities.com/INFJ-conclusion\n",
      "INFP\n",
      "https://www.16personalities.com/INFP-personality\n",
      "https://www.16personalities.com/INFP-strengths-and-weaknesses\n",
      "https://www.16personalities.com/INFP-relationships-dating\n",
      "https://www.16personalities.com/INFP-friends\n",
      "https://www.16personalities.com/INFP-parents\n",
      "https://www.16personalities.com/INFP-careers\n",
      "https://www.16personalities.com/INFP-conclusion\n",
      "INTJ\n",
      "https://www.16personalities.com/INTJ-personality\n",
      "https://www.16personalities.com/INTJ-strengths-and-weaknesses\n",
      "https://www.16personalities.com/INTJ-relationships-dating\n",
      "https://www.16personalities.com/INTJ-friends\n",
      "https://www.16personalities.com/INTJ-parents\n",
      "https://www.16personalities.com/INTJ-careers\n",
      "https://www.16personalities.com/INTJ-conclusion\n",
      "INTP\n",
      "https://www.16personalities.com/INTP-personality\n",
      "https://www.16personalities.com/INTP-strengths-and-weaknesses\n",
      "https://www.16personalities.com/INTP-relationships-dating\n",
      "https://www.16personalities.com/INTP-friends\n",
      "https://www.16personalities.com/INTP-parents\n",
      "https://www.16personalities.com/INTP-careers\n",
      "https://www.16personalities.com/INTP-conclusion\n",
      "ESTP\n",
      "https://www.16personalities.com/ESTP-personality\n",
      "https://www.16personalities.com/ESTP-strengths-and-weaknesses\n",
      "https://www.16personalities.com/ESTP-relationships-dating\n",
      "https://www.16personalities.com/ESTP-friends\n",
      "https://www.16personalities.com/ESTP-parents\n",
      "https://www.16personalities.com/ESTP-careers\n",
      "https://www.16personalities.com/ESTP-conclusion\n",
      "ESTJ\n",
      "https://www.16personalities.com/ESTJ-personality\n",
      "https://www.16personalities.com/ESTJ-strengths-and-weaknesses\n",
      "https://www.16personalities.com/ESTJ-relationships-dating\n",
      "https://www.16personalities.com/ESTJ-friends\n",
      "https://www.16personalities.com/ESTJ-parents\n",
      "https://www.16personalities.com/ESTJ-careers\n",
      "https://www.16personalities.com/ESTJ-conclusion\n",
      "ESFP\n",
      "https://www.16personalities.com/ESFP-personality\n",
      "https://www.16personalities.com/ESFP-strengths-and-weaknesses\n",
      "https://www.16personalities.com/ESFP-relationships-dating\n",
      "https://www.16personalities.com/ESFP-friends\n",
      "https://www.16personalities.com/ESFP-parents\n",
      "https://www.16personalities.com/ESFP-careers\n",
      "https://www.16personalities.com/ESFP-conclusion\n",
      "ESFJ\n",
      "https://www.16personalities.com/ESFJ-personality\n",
      "https://www.16personalities.com/ESFJ-strengths-and-weaknesses\n",
      "https://www.16personalities.com/ESFJ-relationships-dating\n",
      "https://www.16personalities.com/ESFJ-friends\n",
      "https://www.16personalities.com/ESFJ-parents\n",
      "https://www.16personalities.com/ESFJ-careers\n",
      "https://www.16personalities.com/ESFJ-conclusion\n",
      "ENFP\n",
      "https://www.16personalities.com/ENFP-personality\n",
      "https://www.16personalities.com/ENFP-strengths-and-weaknesses\n",
      "https://www.16personalities.com/ENFP-relationships-dating\n",
      "https://www.16personalities.com/ENFP-friends\n",
      "https://www.16personalities.com/ENFP-parents\n",
      "https://www.16personalities.com/ENFP-careers\n",
      "https://www.16personalities.com/ENFP-conclusion\n",
      "ENFJ\n",
      "https://www.16personalities.com/ENFJ-personality\n",
      "https://www.16personalities.com/ENFJ-strengths-and-weaknesses\n",
      "https://www.16personalities.com/ENFJ-relationships-dating\n",
      "https://www.16personalities.com/ENFJ-friends\n",
      "https://www.16personalities.com/ENFJ-parents\n",
      "https://www.16personalities.com/ENFJ-careers\n",
      "https://www.16personalities.com/ENFJ-conclusion\n",
      "ENTP\n",
      "https://www.16personalities.com/ENTP-personality\n",
      "https://www.16personalities.com/ENTP-strengths-and-weaknesses\n",
      "https://www.16personalities.com/ENTP-relationships-dating\n",
      "https://www.16personalities.com/ENTP-friends\n",
      "https://www.16personalities.com/ENTP-parents\n",
      "https://www.16personalities.com/ENTP-careers\n",
      "https://www.16personalities.com/ENTP-conclusion\n",
      "ENTJ\n",
      "https://www.16personalities.com/ENTJ-personality\n",
      "https://www.16personalities.com/ENTJ-strengths-and-weaknesses\n",
      "https://www.16personalities.com/ENTJ-relationships-dating\n",
      "https://www.16personalities.com/ENTJ-friends\n",
      "https://www.16personalities.com/ENTJ-parents\n",
      "https://www.16personalities.com/ENTJ-careers\n",
      "https://www.16personalities.com/ENTJ-conclusion\n"
     ]
    }
   ],
   "source": [
    "ALL = {}\n",
    "for type_ in types:\n",
    "    texts = \"\"\n",
    "    print(type_)\n",
    "    for key in keys:\n",
    "        web = \"https://www.16personalities.com/{}-{}\".format(type_,key)\n",
    "        print(web)\n",
    "        page = requests.get(web)\n",
    "        soup = BeautifulSoup(page.content, \"html.parser\")\n",
    "        article = soup.find(class_=\"main description\")\n",
    "        \n",
    "        texts += article.text\n",
    "    \n",
    "    ALL[type_] = texts"
   ]
  },
  {
   "cell_type": "code",
   "execution_count": 286,
   "metadata": {},
   "outputs": [],
   "source": [
    "df = pd.DataFrame({'Type': ALL.keys(),\n",
    "                   'Text': ALL.values()})"
   ]
  },
  {
   "cell_type": "code",
   "execution_count": 287,
   "metadata": {},
   "outputs": [
    {
     "data": {
      "text/html": [
       "<div>\n",
       "<style scoped>\n",
       "    .dataframe tbody tr th:only-of-type {\n",
       "        vertical-align: middle;\n",
       "    }\n",
       "\n",
       "    .dataframe tbody tr th {\n",
       "        vertical-align: top;\n",
       "    }\n",
       "\n",
       "    .dataframe thead th {\n",
       "        text-align: right;\n",
       "    }\n",
       "</style>\n",
       "<table border=\"1\" class=\"dataframe\">\n",
       "  <thead>\n",
       "    <tr style=\"text-align: right;\">\n",
       "      <th></th>\n",
       "      <th>Type</th>\n",
       "      <th>Text</th>\n",
       "    </tr>\n",
       "  </thead>\n",
       "  <tbody>\n",
       "    <tr>\n",
       "      <th>0</th>\n",
       "      <td>ISTJ</td>\n",
       "      <td>\\n    Introduction\\n\\n\\nWho is A Logistician (...</td>\n",
       "    </tr>\n",
       "    <tr>\n",
       "      <th>1</th>\n",
       "      <td>ISTP</td>\n",
       "      <td>\\n    Introduction\\n\\n\\nWho is A Virtuoso (IST...</td>\n",
       "    </tr>\n",
       "    <tr>\n",
       "      <th>2</th>\n",
       "      <td>ISFJ</td>\n",
       "      <td>\\n    Introduction\\n\\n\\nWho is A Defender (ISF...</td>\n",
       "    </tr>\n",
       "    <tr>\n",
       "      <th>3</th>\n",
       "      <td>ISFP</td>\n",
       "      <td>\\n    Introduction\\n\\n\\nWho is An Adventurer (...</td>\n",
       "    </tr>\n",
       "    <tr>\n",
       "      <th>4</th>\n",
       "      <td>INFJ</td>\n",
       "      <td>\\n    Introduction\\n\\n\\nWho is An Advocate (IN...</td>\n",
       "    </tr>\n",
       "    <tr>\n",
       "      <th>5</th>\n",
       "      <td>INFP</td>\n",
       "      <td>\\n    Introduction\\n\\n\\nWho is A Mediator (INF...</td>\n",
       "    </tr>\n",
       "    <tr>\n",
       "      <th>6</th>\n",
       "      <td>INTJ</td>\n",
       "      <td>\\n    Introduction\\n\\n\\nWho is An Architect (I...</td>\n",
       "    </tr>\n",
       "    <tr>\n",
       "      <th>7</th>\n",
       "      <td>INTP</td>\n",
       "      <td>\\n    Introduction\\n\\n\\nWho is A Logician (INT...</td>\n",
       "    </tr>\n",
       "    <tr>\n",
       "      <th>8</th>\n",
       "      <td>ESTP</td>\n",
       "      <td>\\n    Introduction\\n\\n\\nWho is An Entrepreneur...</td>\n",
       "    </tr>\n",
       "    <tr>\n",
       "      <th>9</th>\n",
       "      <td>ESTJ</td>\n",
       "      <td>\\n    Introduction\\n\\n\\nWho is An Executive (E...</td>\n",
       "    </tr>\n",
       "    <tr>\n",
       "      <th>10</th>\n",
       "      <td>ESFP</td>\n",
       "      <td>\\n    Introduction\\n\\n\\nWho is An Entertainer ...</td>\n",
       "    </tr>\n",
       "    <tr>\n",
       "      <th>11</th>\n",
       "      <td>ESFJ</td>\n",
       "      <td>\\n    Introduction\\n\\n\\nWho is A Consul (ESFJ)...</td>\n",
       "    </tr>\n",
       "    <tr>\n",
       "      <th>12</th>\n",
       "      <td>ENFP</td>\n",
       "      <td>\\n    Introduction\\n\\n\\nWho is A Campaigner (E...</td>\n",
       "    </tr>\n",
       "    <tr>\n",
       "      <th>13</th>\n",
       "      <td>ENFJ</td>\n",
       "      <td>\\n    Introduction\\n\\n\\nWho is A Protagonist (...</td>\n",
       "    </tr>\n",
       "    <tr>\n",
       "      <th>14</th>\n",
       "      <td>ENTP</td>\n",
       "      <td>\\n    Introduction\\n\\n\\nWho is A Debater (ENTP...</td>\n",
       "    </tr>\n",
       "    <tr>\n",
       "      <th>15</th>\n",
       "      <td>ENTJ</td>\n",
       "      <td>\\n    Introduction\\n\\n\\nWho is A Commander (EN...</td>\n",
       "    </tr>\n",
       "  </tbody>\n",
       "</table>\n",
       "</div>"
      ],
      "text/plain": [
       "    Type                                               Text\n",
       "0   ISTJ  \\n    Introduction\\n\\n\\nWho is A Logistician (...\n",
       "1   ISTP  \\n    Introduction\\n\\n\\nWho is A Virtuoso (IST...\n",
       "2   ISFJ  \\n    Introduction\\n\\n\\nWho is A Defender (ISF...\n",
       "3   ISFP  \\n    Introduction\\n\\n\\nWho is An Adventurer (...\n",
       "4   INFJ  \\n    Introduction\\n\\n\\nWho is An Advocate (IN...\n",
       "5   INFP  \\n    Introduction\\n\\n\\nWho is A Mediator (INF...\n",
       "6   INTJ  \\n    Introduction\\n\\n\\nWho is An Architect (I...\n",
       "7   INTP  \\n    Introduction\\n\\n\\nWho is A Logician (INT...\n",
       "8   ESTP  \\n    Introduction\\n\\n\\nWho is An Entrepreneur...\n",
       "9   ESTJ  \\n    Introduction\\n\\n\\nWho is An Executive (E...\n",
       "10  ESFP  \\n    Introduction\\n\\n\\nWho is An Entertainer ...\n",
       "11  ESFJ  \\n    Introduction\\n\\n\\nWho is A Consul (ESFJ)...\n",
       "12  ENFP  \\n    Introduction\\n\\n\\nWho is A Campaigner (E...\n",
       "13  ENFJ  \\n    Introduction\\n\\n\\nWho is A Protagonist (...\n",
       "14  ENTP  \\n    Introduction\\n\\n\\nWho is A Debater (ENTP...\n",
       "15  ENTJ  \\n    Introduction\\n\\n\\nWho is A Commander (EN..."
      ]
     },
     "execution_count": 287,
     "metadata": {},
     "output_type": "execute_result"
    }
   ],
   "source": [
    "df"
   ]
  },
  {
   "cell_type": "code",
   "execution_count": 288,
   "metadata": {},
   "outputs": [],
   "source": [
    "df.to_csv(\"16Personalities.csv\")"
   ]
  }
 ],
 "metadata": {
  "kernelspec": {
   "display_name": "Python 3 (ipykernel)",
   "language": "python",
   "name": "python3"
  },
  "language_info": {
   "codemirror_mode": {
    "name": "ipython",
    "version": 3
   },
   "file_extension": ".py",
   "mimetype": "text/x-python",
   "name": "python",
   "nbconvert_exporter": "python",
   "pygments_lexer": "ipython3",
   "version": "3.9.6"
  }
 },
 "nbformat": 4,
 "nbformat_minor": 4
}
